{
  "nbformat": 4,
  "nbformat_minor": 0,
  "metadata": {
    "colab": {
      "provenance": [],
      "include_colab_link": true
    },
    "kernelspec": {
      "name": "python3",
      "display_name": "Python 3"
    },
    "language_info": {
      "name": "python"
    }
  },
  "cells": [
    {
      "cell_type": "markdown",
      "metadata": {
        "id": "view-in-github",
        "colab_type": "text"
      },
      "source": [
        "<a href=\"https://colab.research.google.com/github/yagmurmutlu/fetal_health/blob/main/fetal_health.ipynb\" target=\"_parent\"><img src=\"https://colab.research.google.com/assets/colab-badge.svg\" alt=\"Open In Colab\"/></a>"
      ]
    },
    {
      "cell_type": "code",
      "execution_count": null,
      "metadata": {
        "id": "j-a6o_gF3e-u"
      },
      "outputs": [],
      "source": [
        "# -*- coding: utf-8 -*-\n",
        "\"\"\"\n",
        "Created on Sun Dec 18 23:00:42 2022\n",
        "\n",
        "@author: yagmur\n",
        "\"\"\"\n",
        "\n",
        "# Kütüphaneyi içe aktar\n",
        "import pandas as pd\n",
        "import matplotlib.pyplot as plt\n",
        "import numpy as np\n",
        "import seaborn as sns\n",
        "\n",
        "\n",
        "\n",
        "# veriyi içe aktar\n",
        "data = pd.read_csv(\"fetal_health.csv\") \n",
        "\n",
        "\n",
        "y = data[\"fetal_health\"].values # sınıfları y değişkenin içerisine koyalım\n",
        "x_data = data.drop([\"fetal_health\"],axis=1) # özellikleri x_data değişkenin içerisine koyalım\n",
        "\n",
        "\n",
        "# normalizasyon\n",
        "x = (x_data - np.min(x_data))/(np.max(x_data)-np.min(x_data))\n",
        "\n",
        "# eğitim test bölünmesi\n",
        "from sklearn.model_selection import train_test_split\n",
        "# % 15 test,  % 85 eğitim\n",
        "x_train, x_test, y_train, y_test = train_test_split(x,y,test_size = 0.15,random_state=42)\n",
        "\n"
      ]
    },
    {
      "cell_type": "code",
      "source": [
        "sns.countplot(data[\"fetal_health\"])\n",
        "plt.show()"
      ],
      "metadata": {
        "colab": {
          "base_uri": "https://localhost:8080/",
          "height": 335
        },
        "id": "FjnJ48EmOTSd",
        "outputId": "4206d3d9-fa44-4646-c59c-aa7875af7880"
      },
      "execution_count": null,
      "outputs": [
        {
          "output_type": "stream",
          "name": "stderr",
          "text": [
            "/usr/local/lib/python3.8/dist-packages/seaborn/_decorators.py:36: FutureWarning: Pass the following variable as a keyword arg: x. From version 0.12, the only valid positional argument will be `data`, and passing other arguments without an explicit keyword will result in an error or misinterpretation.\n",
            "  warnings.warn(\n"
          ]
        },
        {
          "output_type": "display_data",
          "data": {
            "text/plain": [
              "<Figure size 432x288 with 1 Axes>"
            ],
            "image/png": "[encoded data removed]"
          },
          "metadata": {
            "needs_background": "light"
          }
        }
      ]
    },
    {
      "cell_type": "code",
      "source": [
        "from sklearn.neighbors import KNeighborsClassifier\n",
        "score_list = []\n",
        "for each in range(1,50):\n",
        "    knn2 = KNeighborsClassifier(n_neighbors = each)\n",
        "    knn2.fit(x_train,y_train)\n",
        "    score_list.append(knn2.score(x_test,y_test))\n",
        "    \n",
        "plt.plot(range(1,50),score_list)\n",
        "plt.xlabel(\"k değerleri\")\n",
        "plt.ylabel(\"Doğruluk\")\n",
        "plt.title(\"En iyi K Değerinin Bulunması\")\n",
        "plt.show()\n",
        "\n",
        "from sklearn.model_selection import GridSearchCV\n",
        "\n",
        "grid = {\"n_neighbors\":np.arange(1,50)} #50 k değeri için \n",
        "knn= KNeighborsClassifier()\n",
        "\n",
        "knn_cv = GridSearchCV(knn, grid, cv = 10)  # GridSearchCV ,10 cross_fold\n",
        "knn_cv.fit(x,y)\n",
        "\n",
        "print(\"En iyi K değeri: \",knn_cv.best_params_)\n",
        "print(\"En iyi K değerine göre en iyi doğruluk değeri: \",knn_cv.best_score_)\n",
        "\n",
        "#%% confusion matrix\n",
        "from sklearn.metrics import confusion_matrix\n",
        "y_pred = knn_cv.predict(x_test)\n",
        "cm = confusion_matrix(y_test,y_pred)\n",
        "cm\n",
        "# sıcaklık haritası\n",
        "f, ax = plt.subplots(figsize =(5,5))\n",
        "sns.heatmap(cm,annot = True,linewidths=0.5,linecolor=\"white\",fmt = \".0f\",ax=ax)\n",
        "plt.xlabel(\"y_pred\")\n",
        "plt.ylabel(\"y_true\")\n",
        "plt.show()\n"
      ],
      "metadata": {
        "id": "32hVG4BmZP0t"
      },
      "execution_count": null,
      "outputs": []
    },
    {
      "cell_type": "code",
      "source": [
        "#  Destek Vektör Makinesi içe aktar\n",
        "from sklearn.svm import SVC\n",
        " \n",
        "#  Destek Vektör Makinesi eğitimi\n",
        "svm = SVC(random_state = 1)\n",
        "svm.fit(x_train,y_train)\n",
        "\n",
        "#%% confusion matrix\n",
        "from sklearn.metrics import confusion_matrix\n",
        "y_pred = svm.predict(x_test)\n",
        "cm = confusion_matrix(y_test,y_pred)\n",
        "cm\n",
        "# sıcaklık haritası\n",
        "f, ax = plt.subplots(figsize =(5,5))\n",
        "sns.heatmap(cm,annot = True,linewidths=0.5,linecolor=\"white\",fmt = \".0f\",ax=ax)\n",
        "plt.xlabel(\"y_pred\")\n",
        "plt.ylabel(\"y_true\")\n",
        "plt.show()\n",
        "\n",
        "# testi\n",
        "print(\"Destek Vektör Makinesi Modeli Test Doğruluk: {} \".format(svm.score(x_test,y_test)))\n",
        "\n"
      ],
      "metadata": {
        "colab": {
          "base_uri": "https://localhost:8080/",
          "height": 352
        },
        "id": "5If5D2MS4U-A",
        "outputId": "c4389ebb-2b31-4d56-d458-19a11a688a2a"
      },
      "execution_count": null,
      "outputs": [
        {
          "output_type": "display_data",
          "data": {
            "text/plain": [
              "<Figure size 360x360 with 2 Axes>"
            ],
            "image/png": "[encoded data removed]"
          },
          "metadata": {
            "needs_background": "light"
          }
        },
        {
          "output_type": "stream",
          "name": "stdout",
          "text": [
            "Destek Vektör Makinesi Modeli Test Doğruluk: 0.9122257053291536 \n"
          ]
        }
      ]
    },
    {
      "cell_type": "code",
      "source": [
        "#  Karar Ağacı içe aktar\n",
        "from sklearn.tree import DecisionTreeClassifier\n",
        "\n",
        "#Karar Ağacı eğitimi\n",
        "dt = DecisionTreeClassifier()\n",
        "dt.fit(x_train,y_train)\n",
        "\n",
        "print(\"Karar Ağacı Modeli Test Doğruluk: {} \".format(dt.score(x_test,y_test)))\n",
        "\n",
        "#%% confusion matrix\n",
        "from sklearn.metrics import confusion_matrix\n",
        "y_pred = dt.predict(x_test)\n",
        "cm = confusion_matrix(y_test,y_pred)\n",
        "cm\n",
        "# sıcaklık haritası\n",
        "f, ax = plt.subplots(figsize =(5,5))\n",
        "sns.heatmap(cm,annot = True,linewidths=0.5,linecolor=\"white\",fmt = \".0f\",ax=ax)\n",
        "plt.xlabel(\"y_pred\")\n",
        "plt.ylabel(\"y_true\")\n",
        "plt.show()\n",
        "\n",
        "\n",
        "\n"
      ],
      "metadata": {
        "colab": {
          "base_uri": "https://localhost:8080/"
        },
        "id": "0-GfTlUX4qKk",
        "outputId": "fb7ffe0a-6fbf-410c-d963-b215c680f32b"
      },
      "execution_count": null,
      "outputs": [
        {
          "output_type": "stream",
          "name": "stdout",
          "text": [
            "Karar Ağacı Modeli Test Doğruluk: 0.9184952978056427 \n"
          ]
        }
      ]
    },
    {
      "cell_type": "code",
      "source": [
        "#  Rastgele Orman içe aktar\n",
        "from sklearn.ensemble import RandomForestClassifier\n",
        "\n",
        "#Rastgele Orman eğitimi\n",
        "rf = RandomForestClassifier(n_estimators = 100,random_state = 1) # 100 tane karar agacı içerir\n",
        "rf.fit(x_train,y_train)\n",
        "\n",
        "print(\"Rastgele Orman Modeli Test Doğruluk: {} \".format(rf.score(x_test,y_test)))\n",
        "\n",
        "#%% confusion matrix\n",
        "from sklearn.metrics import confusion_matrix\n",
        "y_pred = rf.predict(x_test)\n",
        "cm = confusion_matrix(y_test,y_pred)\n",
        "cm\n",
        "# sıcaklık haritası\n",
        "f, ax = plt.subplots(figsize =(5,5))\n",
        "sns.heatmap(cm,annot = True,linewidths=0.5,linecolor=\"white\",fmt = \".0f\",ax=ax)\n",
        "plt.xlabel(\"y_pred\")\n",
        "plt.ylabel(\"y_true\")\n",
        "plt.show()\n",
        "\n",
        "\n"
      ],
      "metadata": {
        "colab": {
          "base_uri": "https://localhost:8080/",
          "height": 352
        },
        "id": "ItL-Ccis47AP",
        "outputId": "b7edae2e-952b-419d-884c-f10a0c655750"
      },
      "execution_count": null,
      "outputs": [
        {
          "output_type": "stream",
          "name": "stdout",
          "text": [
            "Rastgele Orman Modeli Test Doğruluk: 0.9498432601880877 \n"
          ]
        },
        {
          "output_type": "display_data",
          "data": {
            "text/plain": [
              "<Figure size 360x360 with 2 Axes>"
            ],
            "image/png": "[encoded data removed]"
          },
          "metadata": {
            "needs_background": "light"
          }
        }
      ]
    }
  ]
}